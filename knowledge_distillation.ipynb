{
  "nbformat": 4,
  "nbformat_minor": 0,
  "metadata": {
    "colab": {
      "provenance": [],
      "authorship_tag": "ABX9TyOeTHSQG9PVJ9if6nGk7WrZ",
      "include_colab_link": true
    },
    "kernelspec": {
      "name": "python3",
      "display_name": "Python 3"
    },
    "language_info": {
      "name": "python"
    },
    "gpuClass": "standard"
  },
  "cells": [
    {
      "cell_type": "markdown",
      "metadata": {
        "id": "view-in-github",
        "colab_type": "text"
      },
      "source": [
        "<a href=\"https://colab.research.google.com/github/elhamsh93/image_classification/blob/main/knowledge_distillation.ipynb\" target=\"_parent\"><img src=\"https://colab.research.google.com/assets/colab-badge.svg\" alt=\"Open In Colab\"/></a>"
      ]
    },
    {
      "cell_type": "code",
      "execution_count": 1,
      "metadata": {
        "colab": {
          "base_uri": "https://localhost:8080/"
        },
        "id": "xQKajwLpMB35",
        "outputId": "4188b942-8dc7-408c-c44b-f360c012bf6e"
      },
      "outputs": [
        {
          "output_type": "stream",
          "name": "stdout",
          "text": [
            "/bin/bash: nvidia-smi: command not found\n"
          ]
        }
      ],
      "source": [
        "!nvidia-smi"
      ]
    },
    {
      "cell_type": "code",
      "source": [
        "!pip install torchmetrics"
      ],
      "metadata": {
        "colab": {
          "base_uri": "https://localhost:8080/"
        },
        "id": "fGoqKamclXrm",
        "outputId": "0e231df0-6860-483d-ca78-7f12e3eeb242"
      },
      "execution_count": 1,
      "outputs": [
        {
          "output_type": "stream",
          "name": "stdout",
          "text": [
            "Looking in indexes: https://pypi.org/simple, https://us-python.pkg.dev/colab-wheels/public/simple/\n",
            "Collecting torchmetrics\n",
            "  Downloading torchmetrics-0.11.4-py3-none-any.whl (519 kB)\n",
            "\u001b[2K     \u001b[90m━━━━━━━━━━━━━━━━━━━━━━━━━━━━━━━━━━━━━━\u001b[0m \u001b[32m519.2/519.2 kB\u001b[0m \u001b[31m13.2 MB/s\u001b[0m eta \u001b[36m0:00:00\u001b[0m\n",
            "\u001b[?25hRequirement already satisfied: numpy>=1.17.2 in /usr/local/lib/python3.9/dist-packages (from torchmetrics) (1.22.4)\n",
            "Requirement already satisfied: packaging in /usr/local/lib/python3.9/dist-packages (from torchmetrics) (23.0)\n",
            "Requirement already satisfied: torch>=1.8.1 in /usr/local/lib/python3.9/dist-packages (from torchmetrics) (2.0.0+cu118)\n",
            "Requirement already satisfied: networkx in /usr/local/lib/python3.9/dist-packages (from torch>=1.8.1->torchmetrics) (3.1)\n",
            "Requirement already satisfied: typing-extensions in /usr/local/lib/python3.9/dist-packages (from torch>=1.8.1->torchmetrics) (4.5.0)\n",
            "Requirement already satisfied: triton==2.0.0 in /usr/local/lib/python3.9/dist-packages (from torch>=1.8.1->torchmetrics) (2.0.0)\n",
            "Requirement already satisfied: jinja2 in /usr/local/lib/python3.9/dist-packages (from torch>=1.8.1->torchmetrics) (3.1.2)\n",
            "Requirement already satisfied: filelock in /usr/local/lib/python3.9/dist-packages (from torch>=1.8.1->torchmetrics) (3.11.0)\n",
            "Requirement already satisfied: sympy in /usr/local/lib/python3.9/dist-packages (from torch>=1.8.1->torchmetrics) (1.11.1)\n",
            "Requirement already satisfied: cmake in /usr/local/lib/python3.9/dist-packages (from triton==2.0.0->torch>=1.8.1->torchmetrics) (3.25.2)\n",
            "Requirement already satisfied: lit in /usr/local/lib/python3.9/dist-packages (from triton==2.0.0->torch>=1.8.1->torchmetrics) (16.0.0)\n",
            "Requirement already satisfied: MarkupSafe>=2.0 in /usr/local/lib/python3.9/dist-packages (from jinja2->torch>=1.8.1->torchmetrics) (2.1.2)\n",
            "Requirement already satisfied: mpmath>=0.19 in /usr/local/lib/python3.9/dist-packages (from sympy->torch>=1.8.1->torchmetrics) (1.3.0)\n",
            "Installing collected packages: torchmetrics\n",
            "Successfully installed torchmetrics-0.11.4\n"
          ]
        }
      ]
    },
    {
      "cell_type": "code",
      "source": [
        "import torch\n",
        "import torch.optim as optim\n",
        "import torch.nn as nn\n",
        "import torch.nn.functional as F\n",
        "import torch.backends.cudnn as cudnn\n",
        "import torchmetrics\n",
        "import torchvision\n",
        "from torchvision.models import mobilenet_v2\n",
        "from torchvision import datasets, transforms \n",
        "import os\n",
        "import sys\n",
        "\n",
        "import numpy as np\n"
      ],
      "metadata": {
        "id": "OU_prlxgLJMq"
      },
      "execution_count": 2,
      "outputs": []
    },
    {
      "cell_type": "code",
      "source": [
        "import logging\n",
        "logger = logging.getLogger('KnowloedgeDistillation')\n",
        "logging.info('test')"
      ],
      "metadata": {
        "id": "J_Bsa6e8qRzu"
      },
      "execution_count": 3,
      "outputs": []
    },
    {
      "cell_type": "code",
      "source": [
        "device = 'cuda' if torch.cuda.is_available() else 'cpu'"
      ],
      "metadata": {
        "id": "5dnDuIb6Lxc5"
      },
      "execution_count": 4,
      "outputs": []
    },
    {
      "cell_type": "code",
      "source": [
        "class AverageMeter(object):\n",
        "  def __init__(self):\n",
        "    self.reset()\n",
        "\n",
        "  def reset(self):\n",
        "    self.val = 0\n",
        "    self.avg = 0\n",
        "    self.sum = 0\n",
        "    self.count = 0\n",
        "\n",
        "  def update(self, val, n=1):\n",
        "    self.val = val\n",
        "    self.sum += val * n\n",
        "    self.count += n\n",
        "    self.avg = self.sum / self.count"
      ],
      "metadata": {
        "id": "1Z0CHlXTkZkx"
      },
      "execution_count": 5,
      "outputs": []
    },
    {
      "cell_type": "code",
      "source": [
        "stats = ((0.4914, 0.4822, 0.4465), (0.2023, 0.1994, 0.2010))\n",
        "\n",
        "transfrom_train = transforms.Compose([\n",
        "    transforms.RandomCrop(32, padding=4),\n",
        "    transforms.RandomHorizontalFlip(),\n",
        "    transforms.ToTensor(),\n",
        "    transforms.Normalize(*stats),\n",
        "])\n",
        "\n",
        "transform_test = transforms.Compose([\n",
        "    transforms.ToTensor(),\n",
        "    transforms.Normalize(*stats),\n",
        "])\n",
        "\n",
        "trainset = torchvision.datasets.CIFAR10(\n",
        "    root='./data', train=True, download=True, transform= transfrom_train\n",
        ")\n",
        "trainloader = torch.utils.data.DataLoader(\n",
        "    trainset, batch_size=128, shuffle=False, num_workers=2\n",
        ")\n",
        "testset = torchvision.datasets.CIFAR10(\n",
        "    root='./data', train=False, download=True, transform= transform_test\n",
        ")\n",
        "testloader = torch.utils.data.DataLoader(\n",
        "    testset, batch_size=100, shuffle=False, num_workers=2\n",
        ")"
      ],
      "metadata": {
        "id": "YSpGlQCfTKyT",
        "colab": {
          "base_uri": "https://localhost:8080/"
        },
        "outputId": "a4ce13a1-613f-4a31-b907-4829ff80118c"
      },
      "execution_count": 7,
      "outputs": [
        {
          "output_type": "stream",
          "name": "stdout",
          "text": [
            "Downloading https://www.cs.toronto.edu/~kriz/cifar-10-python.tar.gz to ./data/cifar-10-python.tar.gz\n"
          ]
        },
        {
          "output_type": "stream",
          "name": "stderr",
          "text": [
            "100%|██████████| 170498071/170498071 [00:04<00:00, 40405589.00it/s]\n"
          ]
        },
        {
          "output_type": "stream",
          "name": "stdout",
          "text": [
            "Extracting ./data/cifar-10-python.tar.gz to ./data\n",
            "Files already downloaded and verified\n"
          ]
        }
      ]
    },
    {
      "cell_type": "code",
      "source": [
        "def train(epoch):\n",
        "  net.train()\n",
        "  loss_total = AverageMeter()\n",
        "  accuracy = torchmetrics.Accuracy(task=\"multiclass\", num_classes=10).to(device)\n",
        "  for batch_idx, (inputs, targets) in enumerate(trainloader):\n",
        "    inputs, targets = inputs.to(device), targets.to(device)\n",
        "    optimizer.zero_grad()\n",
        "    outputs = net(inputs)\n",
        "    loss = criterion(outputs, targets)\n",
        "    loss.backward()\n",
        "    optimizer.step()\n",
        "    loss_total.update(loss)\n",
        "    accuracy(outputs.softmax(dim=-1), targets)\n",
        "    # overfit in 50 epochs just to check if everything is working \n",
        "    # if batch_idx == 5:\n",
        "    #   break\n",
        "    scheduler.step()\n",
        "    \n",
        "  acc = accuracy.compute()\n",
        "  # writer.add_scalar('Loss/train', loss_total.avg.item(), epoch)\n",
        "  # writer.add_scalar('Acc/train', acc.item(), epoch)\n",
        "  logger.info(f'Train: Epoch:{epoch} Loss: {loss_total.avg:.4} Accuracy:{acc:.4}' )\n",
        "\n",
        "\n",
        "def test(epoch, checkpoint):\n",
        "  net.eval()\n",
        "  loss_total = AverageMeter()\n",
        "  accuracy = torchmetrics.Accuracy(task=\"multiclass\", num_classes=10).cuda()\n",
        "  with torch.no_grad():\n",
        "    for batch_idx, (inputs, targets) in enumerate(testloader):\n",
        "      inputs, targets = inputs.to(device), targets.to(device)\n",
        "      outputs = net(inputs)\n",
        "      loss = criterion(outputs, targets)\n",
        "      loss_total.update(loss)\n",
        "      accuracy(outputs.softmax(dim=-1), targets)\n",
        "    acc = accuracy.compute()\n",
        "    # writer.add_scalar('Loss/test', loss_total.avg.item(), epoch)\n",
        "    # writer.add_scalar('Acc/test', acc.item(), epoch)\n",
        "    logger.info(f'Test: Epoch:{epoch} Loss:{loss_total.avg:.4} Accuracy:{acc:.4}')\n",
        "    print()\n",
        "  checkpoint.save(accuracy.compute(),'ckpt', epoch= epoch)\n",
        "\n",
        "\n",
        "class Checkpoint(object):\n",
        "  def __init__(self, model_name):\n",
        "    self.best_acc = 0.\n",
        "    self.folder = 'checkpoint'\n",
        "    self.model_name = model_name\n",
        "    os.makedirs(self.folder, exist_ok=True)\n",
        "  \n",
        "  def save(self, acc, epoch=-1):\n",
        "    if acc > self.best_acc:\n",
        "      logger.info('Saving checkpoint....')\n",
        "      state = {\n",
        "          'net': net.state_dict(),\n",
        "          'acc': acc,\n",
        "          'epoch': epoch,\n",
        "      }\n",
        "      path = os.path.join(os.path.abspath(self.folder), self.model_name+'.pth')\n",
        "      torch.save(state, path)\n",
        "      self.best_acc = acc"
      ],
      "metadata": {
        "id": "RJ3xPLuVbzqa"
      },
      "execution_count": 13,
      "outputs": []
    },
    {
      "cell_type": "code",
      "source": [
        "class LeNet5(nn.Module):\n",
        "  def __init__(self):\n",
        "    super(LeNet5, self).__init__()\n",
        "    self.conv1 = nn.Conv2d(3, 6, 5)\n",
        "    self.pool = nn.MaxPool2d(2, 2)\n",
        "    self.conv2 = nn.Conv2d(6, 16, 5)\n",
        "    self.fc1 = nn.Linear(400, 120)\n",
        "    self.fc2 = nn.Linear(120, 84)\n",
        "    self.fc3 = nn.Linear(84, 10)\n",
        "\n",
        "  def forward(self, x):\n",
        "    x = self.pool(F.relu(self.conv1(x)))\n",
        "    x = self.pool(F.relu(self.conv2(x)))\n",
        "    x = x.view(-1, 400)\n",
        "    x = F.relu(self.fc1(x))\n",
        "    x = F.relu(self.fc2(x))\n",
        "    x = self.fc3(x)\n",
        "    return x"
      ],
      "metadata": {
        "id": "eDXddbc-eD4L"
      },
      "execution_count": 14,
      "outputs": []
    },
    {
      "cell_type": "code",
      "source": [
        "net = LeNet5()\n",
        "net.to(device)"
      ],
      "metadata": {
        "colab": {
          "base_uri": "https://localhost:8080/"
        },
        "id": "VP08AKMFvRgP",
        "outputId": "e30c2938-fcad-448e-9faa-7dd3138ed0b8"
      },
      "execution_count": 15,
      "outputs": [
        {
          "output_type": "execute_result",
          "data": {
            "text/plain": [
              "LeNet5(\n",
              "  (conv1): Conv2d(3, 6, kernel_size=(5, 5), stride=(1, 1))\n",
              "  (pool): MaxPool2d(kernel_size=2, stride=2, padding=0, dilation=1, ceil_mode=False)\n",
              "  (conv2): Conv2d(6, 16, kernel_size=(5, 5), stride=(1, 1))\n",
              "  (fc1): Linear(in_features=400, out_features=120, bias=True)\n",
              "  (fc2): Linear(in_features=120, out_features=84, bias=True)\n",
              "  (fc3): Linear(in_features=84, out_features=10, bias=True)\n",
              ")"
            ]
          },
          "metadata": {},
          "execution_count": 15
        }
      ]
    },
    {
      "cell_type": "code",
      "source": [
        "criterion = nn.CrossEntropyLoss()\n",
        "optimizer = optim.SGD(net.parameters(), lr=0.1,\n",
        "                      momentum=0.9, weight_decay=5e-4)\n",
        "scheduler = torch.optim.lr_scheduler.CosineAnnealingLR(optimizer, T_max=20000, eta_min=1e-6)"
      ],
      "metadata": {
        "id": "w68HHoufduxI"
      },
      "execution_count": 16,
      "outputs": []
    },
    {
      "cell_type": "code",
      "source": [
        "checkpoint = Checkpoint('ckpt-lenet')\n",
        "start, end = 0, 50\n",
        "for epoch in range(start, end):\n",
        "  train(epoch)\n",
        "  test(epoch, checkpoint)\n"
      ],
      "metadata": {
        "id": "VokmU9QVihhG"
      },
      "execution_count": null,
      "outputs": []
    },
    {
      "cell_type": "code",
      "source": [
        "ckpt = torch.load('/content/checkpoint/ckpt-lenet.pth')\n",
        "logger.info(f'Best Accuracy: {ckpt['acc']:.4}')"
      ],
      "metadata": {
        "id": "YYJLkoDowVRg"
      },
      "execution_count": null,
      "outputs": []
    },
    {
      "cell_type": "markdown",
      "source": [
        "Train Teacher (MobileNet) base model"
      ],
      "metadata": {
        "id": "xUcVCV1cw76J"
      }
    },
    {
      "cell_type": "code",
      "source": [
        "teacher = mobilenet_v2(True)\n",
        "teacher.classifier[1] = nn.Linear(1280, 10)\n",
        "teacher.to(device)"
      ],
      "metadata": {
        "id": "GKjXjiXPxCE2"
      },
      "execution_count": null,
      "outputs": []
    },
    {
      "cell_type": "code",
      "source": [
        "criterion = nn.CrossEntropyLoss()\n",
        "optimizer = optim.SGD(net.parameters(), lr=0.01,\n",
        "                      momentum=0.9, weight_decay=5e-4)\n",
        "scheduler = torch.optim.lr_scheduler.CosineAnnealingLR(optimizer, T_max=200, eta_min=1e-6)"
      ],
      "metadata": {
        "id": "NA1DsLaNxSrj"
      },
      "execution_count": null,
      "outputs": []
    },
    {
      "cell_type": "code",
      "source": [
        "checkpoint = Checkpoint('ckpt-teacher')\n",
        "start, end = 0, 50\n",
        "for epoch in range(start, end):\n",
        "  train(epoch)\n",
        "  test(epoch, checkpoint)\n"
      ],
      "metadata": {
        "id": "oAVz4yrqxdSR"
      },
      "execution_count": null,
      "outputs": []
    },
    {
      "cell_type": "code",
      "source": [
        "def loss_fn_kd(outputs, labels, teacher_outputs, alpha, T):\n",
        "  KD_loss = nn.KLDivLoss()(F.log_softmax(outputs/T, dim=1),\n",
        "                           F.softmax(teacher_outputs/T, dim=1)) * (alpha*T*T) + \\\n",
        "                           F.cross_entropy(outputs, labels) * (1. - alpha)\n",
        "  return KD_loss"
      ],
      "metadata": {
        "id": "Wr5I7ixkxiNO"
      },
      "execution_count": null,
      "outputs": []
    },
    {
      "cell_type": "code",
      "source": [
        "def train(epoch):\n",
        "  net.train()\n",
        "  loss_total = AverageMeter()\n",
        "  accuracy = torchmetrics.Accuracy(task=\"multiclass\", num_classes=10).to(device)\n",
        "  for batch_idx, (inputs, targets) in enumerate(trainloader):\n",
        "    inputs, targets = inputs.to(device), targets.to(device)\n",
        "    optimizer.zero_grad()\n",
        "    outputs = net(inputs)\n",
        "    with torch.no_grad():\n",
        "      outputs2 = teacher(inputs)\n",
        "    loss = loss_fn_kd(outputs, targets, outputs2, 0.6, 10)\n",
        "    loss.backward()\n",
        "    optimizer.step()\n",
        "    loss_total.update(loss)\n",
        "    accuracy(outputs.softmax(dim=-1), targets)\n",
        "    # overfit in 50 epochs just to check if everything is working \n",
        "    # if batch_idx == 5:\n",
        "    #   break\n",
        "    scheduler.step()\n",
        "    \n",
        "  acc = accuracy.compute()\n",
        "  # writer.add_scalar('Loss/train', loss_total.avg.item(), epoch)\n",
        "  # writer.add_scalar('Acc/train', acc.item(), epoch)\n",
        "  logger.info(f'Train: Epoch:{epoch} Loss: {loss_total.avg:.4} Accuracy:{acc:.4}' )\n",
        "\n",
        "\n",
        "def test(epoch, checkpoint):\n",
        "  net.eval()\n",
        "  loss_total = AverageMeter()\n",
        "  accuracy = torchmetrics.Accuracy(task=\"multiclass\", num_classes=10).cuda()\n",
        "  with torch.no_grad():\n",
        "    for batch_idx, (inputs, targets) in enumerate(testloader):\n",
        "      inputs, targets = inputs.to(device), targets.to(device)\n",
        "      outputs = net(inputs)\n",
        "      loss = criterion(outputs, targets)\n",
        "      loss_total.update(loss)\n",
        "      accuracy(outputs.softmax(dim=-1), targets)\n",
        "    acc = accuracy.compute()\n",
        "    # writer.add_scalar('Loss/test', loss_total.avg.item(), epoch)\n",
        "    # writer.add_scalar('Acc/test', acc.item(), epoch)\n",
        "    logger.info(f'Test: Epoch:{epoch} Loss:{loss_total.avg:.4} Accuracy:{acc:.4}')\n",
        "    print()\n",
        "  checkpoint.save(accuracy.compute(),'ckpt', epoch= epoch)\n"
      ],
      "metadata": {
        "id": "BttcpZnCydZD"
      },
      "execution_count": null,
      "outputs": []
    },
    {
      "cell_type": "code",
      "source": [
        "net = LeNet5()\n",
        "net.to(device)"
      ],
      "metadata": {
        "id": "dAN_5Ee6zdYx"
      },
      "execution_count": null,
      "outputs": []
    },
    {
      "cell_type": "code",
      "source": [
        "teacher = mobilenet_v2(True)\n",
        "teacher.classifier[1] = nn.Linear(1280, 10)\n",
        "teacher.load_state_dict(torch.load('/content/checkpoint/ckpt-teacher.pth')['net'])\n",
        "teacher.eval()\n",
        "teacher.to(device)"
      ],
      "metadata": {
        "id": "51q02-k1zmKs"
      },
      "execution_count": null,
      "outputs": []
    },
    {
      "cell_type": "code",
      "source": [
        "criterion = nn.CrossEntropyLoss()\n",
        "optimizer = optim.SGD(net.parameters(), lr=0.1,\n",
        "                      momentum=0.9, weight_decay=5e-4)\n",
        "scheduler = torch.optim.lr_scheduler.CosineAnnealingLR(optimizer, T_max=20000, eta_min=1e-6)"
      ],
      "metadata": {
        "id": "bmyIzETn0J6W"
      },
      "execution_count": null,
      "outputs": []
    },
    {
      "cell_type": "code",
      "source": [
        "checkpoint = Checkpoint('ckpt-student')\n",
        "start, end = 0, 50\n",
        "for epoch in range(start, end):\n",
        "  train(epoch)\n",
        "  test(epoch, checkpoint)\n"
      ],
      "metadata": {
        "id": "LdG6PU0j0VGu"
      },
      "execution_count": null,
      "outputs": []
    }
  ]
}